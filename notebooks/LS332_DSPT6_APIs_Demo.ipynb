{
 "cells": [
  {
   "cell_type": "code",
   "execution_count": 11,
   "metadata": {
    "colab": {
     "base_uri": "https://localhost:8080/",
     "height": 155
    },
    "colab_type": "code",
    "id": "SGPLRW-t1ECX",
    "outputId": "f774218a-8e3e-46b3-80ec-8eb1667ddd33"
   },
   "outputs": [
    {
     "name": "stdout",
     "output_type": "stream",
     "text": [
      "Requirement already satisfied: basilica in /usr/local/lib/python3.6/dist-packages (0.2.8)\n",
      "Requirement already satisfied: six in /usr/local/lib/python3.6/dist-packages (from basilica) (1.15.0)\n",
      "Requirement already satisfied: requests in /usr/local/lib/python3.6/dist-packages (from basilica) (2.23.0)\n",
      "Requirement already satisfied: Pillow in /usr/local/lib/python3.6/dist-packages (from basilica) (7.0.0)\n",
      "Requirement already satisfied: idna<3,>=2.5 in /usr/local/lib/python3.6/dist-packages (from requests->basilica) (2.10)\n",
      "Requirement already satisfied: certifi>=2017.4.17 in /usr/local/lib/python3.6/dist-packages (from requests->basilica) (2020.6.20)\n",
      "Requirement already satisfied: urllib3!=1.25.0,!=1.25.1,<1.26,>=1.21.1 in /usr/local/lib/python3.6/dist-packages (from requests->basilica) (1.25.10)\n",
      "Requirement already satisfied: chardet<4,>=3.0.2 in /usr/local/lib/python3.6/dist-packages (from requests->basilica) (3.0.4)\n"
     ]
    }
   ],
   "source": [
    "!pip install basilica"
   ]
  },
  {
   "cell_type": "code",
   "execution_count": 1,
   "metadata": {
    "colab": {},
    "colab_type": "code",
    "id": "vS_A9hjG1HGD"
   },
   "outputs": [],
   "source": [
    "import tweepy\n",
    "import basilica"
   ]
  },
  {
   "cell_type": "code",
   "execution_count": 2,
   "metadata": {
    "colab": {},
    "colab_type": "code",
    "id": "ntkRF7mp8zqp"
   },
   "outputs": [],
   "source": [
    "## ADD YOUR CREDENTIALS HERE"
   ]
  },
  {
   "cell_type": "code",
   "execution_count": 3,
   "metadata": {
    "colab": {},
    "colab_type": "code",
    "id": "6F65yM5G1gP1"
   },
   "outputs": [],
   "source": [
    "TWITTER_AUTH = tweepy.OAuthHandler(TWITTER_CONSUMER_API_KEY,TWITTER_CONSUMER_API_SECRET)\n",
    "TWITTER_AUTH.set_access_token(TWITTER_ACCESS_TOKEN, TWITTER_ACCESS_TOKEN_SECRET)\n",
    "TWITTER = tweepy.API(TWITTER_AUTH)\n",
    "BASILICA = basilica.Connection(BASILICA_KEY)"
   ]
  },
  {
   "cell_type": "code",
   "execution_count": 4,
   "metadata": {
    "colab": {
     "base_uri": "https://localhost:8080/",
     "height": 1000
    },
    "colab_type": "code",
    "id": "nJUtar0R1vuf",
    "outputId": "bfea6041-fa2a-4b68-d5c3-c6ebb3c4863d"
   },
   "outputs": [
    {
     "data": {
      "text/plain": [
       "['__class__',\n",
       " '__delattr__',\n",
       " '__dict__',\n",
       " '__dir__',\n",
       " '__doc__',\n",
       " '__eq__',\n",
       " '__format__',\n",
       " '__ge__',\n",
       " '__getattribute__',\n",
       " '__gt__',\n",
       " '__hash__',\n",
       " '__init__',\n",
       " '__init_subclass__',\n",
       " '__le__',\n",
       " '__lt__',\n",
       " '__module__',\n",
       " '__ne__',\n",
       " '__new__',\n",
       " '__reduce__',\n",
       " '__reduce_ex__',\n",
       " '__repr__',\n",
       " '__setattr__',\n",
       " '__sizeof__',\n",
       " '__str__',\n",
       " '__subclasshook__',\n",
       " '__weakref__',\n",
       " '_add_list_members',\n",
       " '_lookup_friendships',\n",
       " '_pack_image',\n",
       " '_remove_list_members',\n",
       " '_send_direct_message',\n",
       " 'add_list_member',\n",
       " 'add_list_members',\n",
       " 'api_root',\n",
       " 'auth',\n",
       " 'blocks',\n",
       " 'blocks_ids',\n",
       " 'cache',\n",
       " 'compression',\n",
       " 'configuration',\n",
       " 'create_block',\n",
       " 'create_favorite',\n",
       " 'create_friendship',\n",
       " 'create_list',\n",
       " 'create_media_metadata',\n",
       " 'create_mute',\n",
       " 'create_saved_search',\n",
       " 'destroy_block',\n",
       " 'destroy_direct_message',\n",
       " 'destroy_favorite',\n",
       " 'destroy_friendship',\n",
       " 'destroy_list',\n",
       " 'destroy_mute',\n",
       " 'destroy_saved_search',\n",
       " 'destroy_status',\n",
       " 'favorites',\n",
       " 'followers',\n",
       " 'followers_ids',\n",
       " 'friends',\n",
       " 'friends_ids',\n",
       " 'friendships_incoming',\n",
       " 'friendships_outgoing',\n",
       " 'geo_id',\n",
       " 'geo_search',\n",
       " 'geo_similar_places',\n",
       " 'get_direct_message',\n",
       " 'get_list',\n",
       " 'get_oembed',\n",
       " 'get_saved_search',\n",
       " 'get_settings',\n",
       " 'get_status',\n",
       " 'get_user',\n",
       " 'home_timeline',\n",
       " 'host',\n",
       " 'list_direct_messages',\n",
       " 'list_members',\n",
       " 'list_subscribers',\n",
       " 'list_timeline',\n",
       " 'lists_all',\n",
       " 'lists_memberships',\n",
       " 'lists_subscriptions',\n",
       " 'lookup_friendships',\n",
       " 'lookup_users',\n",
       " 'me',\n",
       " 'media_upload',\n",
       " 'mentions_timeline',\n",
       " 'mutes',\n",
       " 'mutes_ids',\n",
       " 'parser',\n",
       " 'proxy',\n",
       " 'rate_limit_status',\n",
       " 'related_results',\n",
       " 'remove_list_member',\n",
       " 'remove_list_members',\n",
       " 'report_spam',\n",
       " 'retry_count',\n",
       " 'retry_delay',\n",
       " 'retry_errors',\n",
       " 'retweet',\n",
       " 'retweeters',\n",
       " 'retweets',\n",
       " 'retweets_of_me',\n",
       " 'reverse_geocode',\n",
       " 'saved_searches',\n",
       " 'search',\n",
       " 'search_host',\n",
       " 'search_root',\n",
       " 'search_users',\n",
       " 'send_direct_message',\n",
       " 'set_settings',\n",
       " 'show_friendship',\n",
       " 'show_list_member',\n",
       " 'show_list_subscriber',\n",
       " 'statuses_lookup',\n",
       " 'subscribe_list',\n",
       " 'supported_languages',\n",
       " 'timeout',\n",
       " 'trends_available',\n",
       " 'trends_closest',\n",
       " 'trends_place',\n",
       " 'unretweet',\n",
       " 'unsubscribe_list',\n",
       " 'update_list',\n",
       " 'update_profile',\n",
       " 'update_profile_background_image',\n",
       " 'update_profile_banner',\n",
       " 'update_profile_image',\n",
       " 'update_status',\n",
       " 'update_with_media',\n",
       " 'upload_host',\n",
       " 'upload_root',\n",
       " 'user_timeline',\n",
       " 'verify_credentials',\n",
       " 'wait_on_rate_limit',\n",
       " 'wait_on_rate_limit_notify']"
      ]
     },
     "execution_count": 4,
     "metadata": {},
     "output_type": "execute_result"
    }
   ],
   "source": [
    "dir(TWITTER)"
   ]
  },
  {
   "cell_type": "code",
   "execution_count": 5,
   "metadata": {
    "colab": {
     "base_uri": "https://localhost:8080/",
     "height": 54
    },
    "colab_type": "code",
    "id": "csutsVfe2UDL",
    "outputId": "5d22fbd4-ff08-4f87-e53b-7e9562bac70e"
   },
   "outputs": [
    {
     "data": {
      "text/plain": [
       "User(_api=<tweepy.api.API object at 0x000001EA3E771DC8>, _json={'id': 44196397, 'id_str': '44196397', 'name': 'Elon Musk', 'screen_name': 'elonmusk', 'location': '', 'profile_location': None, 'description': '', 'url': None, 'entities': {'description': {'urls': []}}, 'protected': False, 'followers_count': 37674654, 'friends_count': 96, 'listed_count': 55012, 'created_at': 'Tue Jun 02 20:12:29 +0000 2009', 'favourites_count': 6375, 'utc_offset': None, 'time_zone': None, 'geo_enabled': False, 'verified': True, 'statuses_count': 11960, 'lang': None, 'status': {'created_at': 'Sat Aug 08 22:28:48 +0000 2020', 'id': 1292226279995879426, 'id_str': '1292226279995879426', 'text': '@Erdayastronaut Not sure yet, but hopefully. Will need leg &amp; other repairs. Probably SN6 flies before SN5. We need… https://t.co/CGXSNck6uv', 'truncated': True, 'entities': {'hashtags': [], 'symbols': [], 'user_mentions': [{'screen_name': 'Erdayastronaut', 'name': 'Everyday Astronaut', 'id': 3167257102, 'id_str': '3167257102', 'indices': [0, 15]}], 'urls': [{'url': 'https://t.co/CGXSNck6uv', 'expanded_url': 'https://twitter.com/i/web/status/1292226279995879426', 'display_url': 'twitter.com/i/web/status/1…', 'indices': [120, 143]}]}, 'source': '<a href=\"http://twitter.com/download/iphone\" rel=\"nofollow\">Twitter for iPhone</a>', 'in_reply_to_status_id': 1292225281558810624, 'in_reply_to_status_id_str': '1292225281558810624', 'in_reply_to_user_id': 3167257102, 'in_reply_to_user_id_str': '3167257102', 'in_reply_to_screen_name': 'Erdayastronaut', 'geo': None, 'coordinates': None, 'place': None, 'contributors': None, 'is_quote_status': False, 'retweet_count': 200, 'favorite_count': 2973, 'favorited': False, 'retweeted': False, 'lang': 'en'}, 'contributors_enabled': False, 'is_translator': False, 'is_translation_enabled': False, 'profile_background_color': 'C0DEED', 'profile_background_image_url': 'http://abs.twimg.com/images/themes/theme1/bg.png', 'profile_background_image_url_https': 'https://abs.twimg.com/images/themes/theme1/bg.png', 'profile_background_tile': False, 'profile_image_url': 'http://pbs.twimg.com/profile_images/1289966861333835776/LVnVeLln_normal.jpg', 'profile_image_url_https': 'https://pbs.twimg.com/profile_images/1289966861333835776/LVnVeLln_normal.jpg', 'profile_banner_url': 'https://pbs.twimg.com/profile_banners/44196397/1576183471', 'profile_link_color': '0084B4', 'profile_sidebar_border_color': 'C0DEED', 'profile_sidebar_fill_color': 'DDEEF6', 'profile_text_color': '333333', 'profile_use_background_image': True, 'has_extended_profile': True, 'default_profile': False, 'default_profile_image': False, 'following': True, 'follow_request_sent': False, 'notifications': False, 'translator_type': 'none'}, id=44196397, id_str='44196397', name='Elon Musk', screen_name='elonmusk', location='', profile_location=None, description='', url=None, entities={'description': {'urls': []}}, protected=False, followers_count=37674654, friends_count=96, listed_count=55012, created_at=datetime.datetime(2009, 6, 2, 20, 12, 29), favourites_count=6375, utc_offset=None, time_zone=None, geo_enabled=False, verified=True, statuses_count=11960, lang=None, status=Status(_api=<tweepy.api.API object at 0x000001EA3E771DC8>, _json={'created_at': 'Sat Aug 08 22:28:48 +0000 2020', 'id': 1292226279995879426, 'id_str': '1292226279995879426', 'text': '@Erdayastronaut Not sure yet, but hopefully. Will need leg &amp; other repairs. Probably SN6 flies before SN5. We need… https://t.co/CGXSNck6uv', 'truncated': True, 'entities': {'hashtags': [], 'symbols': [], 'user_mentions': [{'screen_name': 'Erdayastronaut', 'name': 'Everyday Astronaut', 'id': 3167257102, 'id_str': '3167257102', 'indices': [0, 15]}], 'urls': [{'url': 'https://t.co/CGXSNck6uv', 'expanded_url': 'https://twitter.com/i/web/status/1292226279995879426', 'display_url': 'twitter.com/i/web/status/1…', 'indices': [120, 143]}]}, 'source': '<a href=\"http://twitter.com/download/iphone\" rel=\"nofollow\">Twitter for iPhone</a>', 'in_reply_to_status_id': 1292225281558810624, 'in_reply_to_status_id_str': '1292225281558810624', 'in_reply_to_user_id': 3167257102, 'in_reply_to_user_id_str': '3167257102', 'in_reply_to_screen_name': 'Erdayastronaut', 'geo': None, 'coordinates': None, 'place': None, 'contributors': None, 'is_quote_status': False, 'retweet_count': 200, 'favorite_count': 2973, 'favorited': False, 'retweeted': False, 'lang': 'en'}, created_at=datetime.datetime(2020, 8, 8, 22, 28, 48), id=1292226279995879426, id_str='1292226279995879426', text='@Erdayastronaut Not sure yet, but hopefully. Will need leg &amp; other repairs. Probably SN6 flies before SN5. We need… https://t.co/CGXSNck6uv', truncated=True, entities={'hashtags': [], 'symbols': [], 'user_mentions': [{'screen_name': 'Erdayastronaut', 'name': 'Everyday Astronaut', 'id': 3167257102, 'id_str': '3167257102', 'indices': [0, 15]}], 'urls': [{'url': 'https://t.co/CGXSNck6uv', 'expanded_url': 'https://twitter.com/i/web/status/1292226279995879426', 'display_url': 'twitter.com/i/web/status/1…', 'indices': [120, 143]}]}, source='Twitter for iPhone', source_url='http://twitter.com/download/iphone', in_reply_to_status_id=1292225281558810624, in_reply_to_status_id_str='1292225281558810624', in_reply_to_user_id=3167257102, in_reply_to_user_id_str='3167257102', in_reply_to_screen_name='Erdayastronaut', geo=None, coordinates=None, place=None, contributors=None, is_quote_status=False, retweet_count=200, favorite_count=2973, favorited=False, retweeted=False, lang='en'), contributors_enabled=False, is_translator=False, is_translation_enabled=False, profile_background_color='C0DEED', profile_background_image_url='http://abs.twimg.com/images/themes/theme1/bg.png', profile_background_image_url_https='https://abs.twimg.com/images/themes/theme1/bg.png', profile_background_tile=False, profile_image_url='http://pbs.twimg.com/profile_images/1289966861333835776/LVnVeLln_normal.jpg', profile_image_url_https='https://pbs.twimg.com/profile_images/1289966861333835776/LVnVeLln_normal.jpg', profile_banner_url='https://pbs.twimg.com/profile_banners/44196397/1576183471', profile_link_color='0084B4', profile_sidebar_border_color='C0DEED', profile_sidebar_fill_color='DDEEF6', profile_text_color='333333', profile_use_background_image=True, has_extended_profile=True, default_profile=False, default_profile_image=False, following=True, follow_request_sent=False, notifications=False, translator_type='none')"
      ]
     },
     "execution_count": 5,
     "metadata": {},
     "output_type": "execute_result"
    }
   ],
   "source": [
    "twitter_user = TWITTER.get_user('elonmusk')\n",
    "twitter_user"
   ]
  },
  {
   "cell_type": "code",
   "execution_count": 6,
   "metadata": {
    "colab": {
     "base_uri": "https://localhost:8080/",
     "height": 34
    },
    "colab_type": "code",
    "id": "DmQRlUkq2qS2",
    "outputId": "1b704b4f-6837-4228-fb02-ad2aa3aca8b4"
   },
   "outputs": [
    {
     "data": {
      "text/plain": [
       "44196397"
      ]
     },
     "execution_count": 6,
     "metadata": {},
     "output_type": "execute_result"
    }
   ],
   "source": [
    "twitter_user.id"
   ]
  },
  {
   "cell_type": "code",
   "execution_count": null,
   "metadata": {
    "colab": {
     "base_uri": "https://localhost:8080/",
     "height": 383
    },
    "colab_type": "code",
    "id": "omyLp9wm2zpI",
    "outputId": "c3b16c7d-ca16-41e9-a020-4dd36f324fbb"
   },
   "outputs": [],
   "source": [
    "tweets = twitter_user.timeline()\n",
    "tweets"
   ]
  },
  {
   "cell_type": "code",
   "execution_count": 8,
   "metadata": {
    "colab": {
     "base_uri": "https://localhost:8080/",
     "height": 35
    },
    "colab_type": "code",
    "id": "a9erBXuJ3iCu",
    "outputId": "d31ccfef-5dd0-4986-9ace-cdf9df90ecd0"
   },
   "outputs": [
    {
     "data": {
      "text/plain": [
       "'@Erdayastronaut Not sure yet, but hopefully. Will need leg &amp; other repairs. Probably SN6 flies before SN5. We need… https://t.co/CGXSNck6uv'"
      ]
     },
     "execution_count": 8,
     "metadata": {},
     "output_type": "execute_result"
    }
   ],
   "source": [
    "tweets[0].text"
   ]
  },
  {
   "cell_type": "code",
   "execution_count": null,
   "metadata": {
    "colab": {
     "base_uri": "https://localhost:8080/",
     "height": 496
    },
    "colab_type": "code",
    "id": "AH7foZn63vgo",
    "outputId": "53779fd6-cc0b-4354-fe48-21281d36ddde"
   },
   "outputs": [],
   "source": [
    "tweets = twitter_user.timeline(count=200, exclude_replies=True, include_rts=False, tweet_mode='extended')\n",
    "tweets"
   ]
  },
  {
   "cell_type": "code",
   "execution_count": 10,
   "metadata": {
    "colab": {
     "base_uri": "https://localhost:8080/",
     "height": 35
    },
    "colab_type": "code",
    "id": "vNcA9_6e4xR0",
    "outputId": "fe6c94ef-5855-4d7c-cae1-fabdf0164eae"
   },
   "outputs": [
    {
     "data": {
      "text/plain": [
       "'When space travel becomes as common as air travel, the future of civilization will be assured'"
      ]
     },
     "execution_count": 10,
     "metadata": {},
     "output_type": "execute_result"
    }
   ],
   "source": [
    "tweets[2].full_text"
   ]
  },
  {
   "cell_type": "code",
   "execution_count": null,
   "metadata": {
    "colab": {
     "base_uri": "https://localhost:8080/",
     "height": 1000
    },
    "colab_type": "code",
    "id": "HCRLPcZe5DxD",
    "outputId": "f431a243-f0b2-49b5-ccb3-ee912cf699ca"
   },
   "outputs": [],
   "source": [
    "embedding = BASILICA.embed_sentence(tweets[0].full_text, model='twitter')\n",
    "embedding"
   ]
  },
  {
   "cell_type": "code",
   "execution_count": 25,
   "metadata": {},
   "outputs": [
    {
     "name": "stdout",
     "output_type": "stream",
     "text": [
      "25\n"
     ]
    },
    {
     "data": {
      "text/plain": [
       "1286673686821515266"
      ]
     },
     "execution_count": 25,
     "metadata": {},
     "output_type": "execute_result"
    }
   ],
   "source": [
    "tweets = twitter_user.timeline(count=200, \n",
    "                               exclude_replies=True, \n",
    "                               include_rts=False, \n",
    "                               tweet_mode='extended')\n",
    "num_tweets = len(tweets)\n",
    "print(num_tweets)\n",
    "tweets[(num_tweets - 1)].id"
   ]
  },
  {
   "cell_type": "code",
   "execution_count": 38,
   "metadata": {},
   "outputs": [
    {
     "ename": "RateLimitError",
     "evalue": "[{'message': 'Rate limit exceeded', 'code': 88}]",
     "output_type": "error",
     "traceback": [
      "\u001b[1;31m---------------------------------------------------------------------------\u001b[0m",
      "\u001b[1;31mRateLimitError\u001b[0m                            Traceback (most recent call last)",
      "\u001b[1;32m<ipython-input-38-99f529198f12>\u001b[0m in \u001b[0;36m<module>\u001b[1;34m\u001b[0m\n\u001b[0;32m     17\u001b[0m                                        \u001b[0minclude_rts\u001b[0m\u001b[1;33m=\u001b[0m\u001b[1;32mFalse\u001b[0m\u001b[1;33m,\u001b[0m\u001b[1;33m\u001b[0m\u001b[1;33m\u001b[0m\u001b[0m\n\u001b[0;32m     18\u001b[0m                                        \u001b[0mtweet_mode\u001b[0m\u001b[1;33m=\u001b[0m\u001b[1;34m'extended'\u001b[0m\u001b[1;33m,\u001b[0m\u001b[1;33m\u001b[0m\u001b[1;33m\u001b[0m\u001b[0m\n\u001b[1;32m---> 19\u001b[1;33m                                        max_id=oldest_max_id)\n\u001b[0m\u001b[0;32m     20\u001b[0m \u001b[1;33m\u001b[0m\u001b[0m\n\u001b[0;32m     21\u001b[0m         \u001b[1;32mif\u001b[0m \u001b[0mlen\u001b[0m\u001b[1;33m(\u001b[0m\u001b[0mtweets\u001b[0m\u001b[1;33m)\u001b[0m \u001b[1;33m==\u001b[0m \u001b[1;36m0\u001b[0m\u001b[1;33m:\u001b[0m\u001b[1;33m\u001b[0m\u001b[1;33m\u001b[0m\u001b[0m\n",
      "\u001b[1;32m~\\anaconda3\\lib\\site-packages\\tweepy\\models.py\u001b[0m in \u001b[0;36mtimeline\u001b[1;34m(self, **kwargs)\u001b[0m\n\u001b[0;32m    176\u001b[0m \u001b[1;33m\u001b[0m\u001b[0m\n\u001b[0;32m    177\u001b[0m     \u001b[1;32mdef\u001b[0m \u001b[0mtimeline\u001b[0m\u001b[1;33m(\u001b[0m\u001b[0mself\u001b[0m\u001b[1;33m,\u001b[0m \u001b[1;33m**\u001b[0m\u001b[0mkwargs\u001b[0m\u001b[1;33m)\u001b[0m\u001b[1;33m:\u001b[0m\u001b[1;33m\u001b[0m\u001b[1;33m\u001b[0m\u001b[0m\n\u001b[1;32m--> 178\u001b[1;33m         \u001b[1;32mreturn\u001b[0m \u001b[0mself\u001b[0m\u001b[1;33m.\u001b[0m\u001b[0m_api\u001b[0m\u001b[1;33m.\u001b[0m\u001b[0muser_timeline\u001b[0m\u001b[1;33m(\u001b[0m\u001b[0muser_id\u001b[0m\u001b[1;33m=\u001b[0m\u001b[0mself\u001b[0m\u001b[1;33m.\u001b[0m\u001b[0mid\u001b[0m\u001b[1;33m,\u001b[0m \u001b[1;33m**\u001b[0m\u001b[0mkwargs\u001b[0m\u001b[1;33m)\u001b[0m\u001b[1;33m\u001b[0m\u001b[1;33m\u001b[0m\u001b[0m\n\u001b[0m\u001b[0;32m    179\u001b[0m \u001b[1;33m\u001b[0m\u001b[0m\n\u001b[0;32m    180\u001b[0m     \u001b[1;32mdef\u001b[0m \u001b[0mfriends\u001b[0m\u001b[1;33m(\u001b[0m\u001b[0mself\u001b[0m\u001b[1;33m,\u001b[0m \u001b[1;33m**\u001b[0m\u001b[0mkwargs\u001b[0m\u001b[1;33m)\u001b[0m\u001b[1;33m:\u001b[0m\u001b[1;33m\u001b[0m\u001b[1;33m\u001b[0m\u001b[0m\n",
      "\u001b[1;32m~\\anaconda3\\lib\\site-packages\\tweepy\\binder.py\u001b[0m in \u001b[0;36m_call\u001b[1;34m(*args, **kwargs)\u001b[0m\n\u001b[0;32m    250\u001b[0m                 \u001b[1;32mreturn\u001b[0m \u001b[0mmethod\u001b[0m\u001b[1;33m\u001b[0m\u001b[1;33m\u001b[0m\u001b[0m\n\u001b[0;32m    251\u001b[0m             \u001b[1;32melse\u001b[0m\u001b[1;33m:\u001b[0m\u001b[1;33m\u001b[0m\u001b[1;33m\u001b[0m\u001b[0m\n\u001b[1;32m--> 252\u001b[1;33m                 \u001b[1;32mreturn\u001b[0m \u001b[0mmethod\u001b[0m\u001b[1;33m.\u001b[0m\u001b[0mexecute\u001b[0m\u001b[1;33m(\u001b[0m\u001b[1;33m)\u001b[0m\u001b[1;33m\u001b[0m\u001b[1;33m\u001b[0m\u001b[0m\n\u001b[0m\u001b[0;32m    253\u001b[0m         \u001b[1;32mfinally\u001b[0m\u001b[1;33m:\u001b[0m\u001b[1;33m\u001b[0m\u001b[1;33m\u001b[0m\u001b[0m\n\u001b[0;32m    254\u001b[0m             \u001b[0mmethod\u001b[0m\u001b[1;33m.\u001b[0m\u001b[0msession\u001b[0m\u001b[1;33m.\u001b[0m\u001b[0mclose\u001b[0m\u001b[1;33m(\u001b[0m\u001b[1;33m)\u001b[0m\u001b[1;33m\u001b[0m\u001b[1;33m\u001b[0m\u001b[0m\n",
      "\u001b[1;32m~\\anaconda3\\lib\\site-packages\\tweepy\\binder.py\u001b[0m in \u001b[0;36mexecute\u001b[1;34m(self)\u001b[0m\n\u001b[0;32m    230\u001b[0m \u001b[1;33m\u001b[0m\u001b[0m\n\u001b[0;32m    231\u001b[0m                 \u001b[1;32mif\u001b[0m \u001b[0mis_rate_limit_error_message\u001b[0m\u001b[1;33m(\u001b[0m\u001b[0merror_msg\u001b[0m\u001b[1;33m)\u001b[0m\u001b[1;33m:\u001b[0m\u001b[1;33m\u001b[0m\u001b[1;33m\u001b[0m\u001b[0m\n\u001b[1;32m--> 232\u001b[1;33m                     \u001b[1;32mraise\u001b[0m \u001b[0mRateLimitError\u001b[0m\u001b[1;33m(\u001b[0m\u001b[0merror_msg\u001b[0m\u001b[1;33m,\u001b[0m \u001b[0mresp\u001b[0m\u001b[1;33m)\u001b[0m\u001b[1;33m\u001b[0m\u001b[1;33m\u001b[0m\u001b[0m\n\u001b[0m\u001b[0;32m    233\u001b[0m                 \u001b[1;32melse\u001b[0m\u001b[1;33m:\u001b[0m\u001b[1;33m\u001b[0m\u001b[1;33m\u001b[0m\u001b[0m\n\u001b[0;32m    234\u001b[0m                     \u001b[1;32mraise\u001b[0m \u001b[0mTweepError\u001b[0m\u001b[1;33m(\u001b[0m\u001b[0merror_msg\u001b[0m\u001b[1;33m,\u001b[0m \u001b[0mresp\u001b[0m\u001b[1;33m,\u001b[0m \u001b[0mapi_code\u001b[0m\u001b[1;33m=\u001b[0m\u001b[0mapi_error_code\u001b[0m\u001b[1;33m)\u001b[0m\u001b[1;33m\u001b[0m\u001b[1;33m\u001b[0m\u001b[0m\n",
      "\u001b[1;31mRateLimitError\u001b[0m: [{'message': 'Rate limit exceeded', 'code': 88}]"
     ]
    }
   ],
   "source": [
    "TWITTER_USERS = ['elonmusk', 'nasa', 'lockheedmartin', 'jeffbezos', 'buzzfeed', 'kdnuggets', 'TechCrunch', 'garyvee', 'theeconomist', 'billgates']\n",
    "\n",
    "for user in TWITTER_USERS:\n",
    "    twitter_user = TWITTER.get_user(user)\n",
    "    tweets = twitter_user.timeline(count=200, \n",
    "                                   exclude_replies=True, \n",
    "                                   include_rts=False, \n",
    "                                   tweet_mode='extended')\n",
    "    oldest_max_id = tweets[(len(tweets) - 1)].id\n",
    "\n",
    "    total_tweets = []\n",
    "    total_tweets += tweets\n",
    "    \n",
    "    while True:\n",
    "\n",
    "        tweets = twitter_user.timeline(count=200,\n",
    "                                       exclude_replies=True,\n",
    "                                       include_rts=False,\n",
    "                                       tweet_mode='extended',\n",
    "                                       max_id=oldest_max_id)\n",
    "\n",
    "        if len(tweets) == 0:\n",
    "              break\n",
    "\n",
    "        oldest_max_id = tweets[(len(tweets) - 1)].id\n",
    "        total_tweets += tweets \n",
    "\n",
    "print(len(total_tweets))"
   ]
  },
  {
   "cell_type": "code",
   "execution_count": null,
   "metadata": {},
   "outputs": [],
   "source": [
    "total_tweets[100].full_text"
   ]
  },
  {
   "cell_type": "code",
   "execution_count": 12,
   "metadata": {
    "colab": {},
    "colab_type": "code",
    "id": "SxBB7QLNcEkU"
   },
   "outputs": [],
   "source": [
    "def add_user_tweepy(username):\n",
    "    \"\"\"Add a user and their tweets to database.\"\"\"\n",
    "    try:\n",
    "        # Get user info from tweepy API    \n",
    "        twitter_user = TWITTER.get_user(username)\n",
    "\n",
    "        # Add as many recent non-retweet/reply tweets as possible\n",
    "        # 200 is a Twitter API limit for single request\n",
    "        tweets = twitter_user.timeline(count=200, \n",
    "                                       exclude_replies=True, \n",
    "                                       include_rts=False, \n",
    "                                       tweet_mode='extended')\n",
    "\n",
    "        # Get an example Basilica embedding for first tweet\n",
    "        embedding = BASILICA.embed_sentence(tweets[0].full_text, model='twitter')\n",
    "            \n",
    "    except Exception as e:\n",
    "        print('Error processing {}: {}'.format(username, e))\n",
    "        raise e\n",
    "\n",
    "    return tweets, embedding"
   ]
  },
  {
   "cell_type": "code",
   "execution_count": 13,
   "metadata": {
    "colab": {
     "base_uri": "https://localhost:8080/",
     "height": 34
    },
    "colab_type": "code",
    "id": "MF1Cm7SecNNW",
    "outputId": "5a0038b7-cc31-4c4b-b902-3709eafa2588"
   },
   "outputs": [
    {
     "name": "stdout",
     "output_type": "stream",
     "text": [
      "25 768\n"
     ]
    }
   ],
   "source": [
    "elon_tweets, elon_embedding = add_user_tweepy('elonmusk')\n",
    "print(len(elon_tweets), len(elon_embedding))"
   ]
  },
  {
   "cell_type": "markdown",
   "metadata": {
    "colab_type": "text",
    "id": "AV1ESSGe3ZLp"
   },
   "source": [
    "### Twitter Scraper (for those without API access)"
   ]
  },
  {
   "cell_type": "code",
   "execution_count": 1,
   "metadata": {
    "colab": {
     "base_uri": "https://localhost:8080/",
     "height": 391
    },
    "colab_type": "code",
    "id": "eWDe1ZmG3W25",
    "outputId": "1e325ee7-9e13-45a6-ea9e-7de5a9b2fedd"
   },
   "outputs": [
    {
     "name": "stdout",
     "output_type": "stream",
     "text": [
      "Requirement already satisfied: twitter_scraper in /usr/local/lib/python3.6/dist-packages (0.4.4)\n",
      "Requirement already satisfied: MechanicalSoup in /usr/local/lib/python3.6/dist-packages (from twitter_scraper) (0.12.0)\n",
      "Requirement already satisfied: requests-html in /usr/local/lib/python3.6/dist-packages (from twitter_scraper) (0.10.0)\n",
      "Requirement already satisfied: six>=1.4 in /usr/local/lib/python3.6/dist-packages (from MechanicalSoup->twitter_scraper) (1.15.0)\n",
      "Requirement already satisfied: lxml in /usr/local/lib/python3.6/dist-packages (from MechanicalSoup->twitter_scraper) (4.2.6)\n",
      "Requirement already satisfied: requests>=2.0 in /usr/local/lib/python3.6/dist-packages (from MechanicalSoup->twitter_scraper) (2.23.0)\n",
      "Requirement already satisfied: beautifulsoup4>=4.4 in /usr/local/lib/python3.6/dist-packages (from MechanicalSoup->twitter_scraper) (4.6.3)\n",
      "Requirement already satisfied: parse in /usr/local/lib/python3.6/dist-packages (from requests-html->twitter_scraper) (1.16.0)\n",
      "Requirement already satisfied: pyquery in /usr/local/lib/python3.6/dist-packages (from requests-html->twitter_scraper) (1.4.1)\n",
      "Requirement already satisfied: fake-useragent in /usr/local/lib/python3.6/dist-packages (from requests-html->twitter_scraper) (0.1.11)\n",
      "Requirement already satisfied: w3lib in /usr/local/lib/python3.6/dist-packages (from requests-html->twitter_scraper) (1.22.0)\n",
      "Requirement already satisfied: bs4 in /usr/local/lib/python3.6/dist-packages (from requests-html->twitter_scraper) (0.0.1)\n",
      "Requirement already satisfied: pyppeteer>=0.0.14 in /usr/local/lib/python3.6/dist-packages (from requests-html->twitter_scraper) (0.2.2)\n",
      "Requirement already satisfied: chardet<4,>=3.0.2 in /usr/local/lib/python3.6/dist-packages (from requests>=2.0->MechanicalSoup->twitter_scraper) (3.0.4)\n",
      "Requirement already satisfied: idna<3,>=2.5 in /usr/local/lib/python3.6/dist-packages (from requests>=2.0->MechanicalSoup->twitter_scraper) (2.10)\n",
      "Requirement already satisfied: urllib3!=1.25.0,!=1.25.1,<1.26,>=1.21.1 in /usr/local/lib/python3.6/dist-packages (from requests>=2.0->MechanicalSoup->twitter_scraper) (1.25.10)\n",
      "Requirement already satisfied: certifi>=2017.4.17 in /usr/local/lib/python3.6/dist-packages (from requests>=2.0->MechanicalSoup->twitter_scraper) (2020.6.20)\n",
      "Requirement already satisfied: cssselect>0.7.9 in /usr/local/lib/python3.6/dist-packages (from pyquery->requests-html->twitter_scraper) (1.1.0)\n",
      "Requirement already satisfied: tqdm<5.0.0,>=4.42.1 in /usr/local/lib/python3.6/dist-packages (from pyppeteer>=0.0.14->requests-html->twitter_scraper) (4.48.2)\n",
      "Requirement already satisfied: appdirs<2.0.0,>=1.4.3 in /usr/local/lib/python3.6/dist-packages (from pyppeteer>=0.0.14->requests-html->twitter_scraper) (1.4.4)\n",
      "Requirement already satisfied: websockets<9.0,>=8.1 in /usr/local/lib/python3.6/dist-packages (from pyppeteer>=0.0.14->requests-html->twitter_scraper) (8.1)\n",
      "Requirement already satisfied: pyee<8.0.0,>=7.0.1 in /usr/local/lib/python3.6/dist-packages (from pyppeteer>=0.0.14->requests-html->twitter_scraper) (7.0.2)\n"
     ]
    }
   ],
   "source": [
    "!pip install twitter_scraper"
   ]
  },
  {
   "cell_type": "code",
   "execution_count": 17,
   "metadata": {
    "colab": {},
    "colab_type": "code",
    "id": "MPHtKqBm3po4"
   },
   "outputs": [],
   "source": [
    "from twitter_scraper import get_tweets, Profile"
   ]
  },
  {
   "cell_type": "code",
   "execution_count": 19,
   "metadata": {
    "colab": {
     "base_uri": "https://localhost:8080/",
     "height": 255
    },
    "colab_type": "code",
    "id": "N4LE6L93eg9B",
    "outputId": "ee85eb3f-d8f7-4e3b-ac52-c812dbdf1697"
   },
   "outputs": [
    {
     "data": {
      "text/plain": [
       "['banner_photolikes_count',\n",
       " 'biography',\n",
       " 'birthday',\n",
       " 'followers_count',\n",
       " 'following_count',\n",
       " 'is_private',\n",
       " 'is_verified',\n",
       " 'location',\n",
       " 'name',\n",
       " 'profile_photo',\n",
       " 'tweets_count',\n",
       " 'user_id',\n",
       " 'username',\n",
       " 'website']"
      ]
     },
     "execution_count": 19,
     "metadata": {
      "tags": []
     },
     "output_type": "execute_result"
    }
   ],
   "source": [
    "elon_profile = Profile('elonmusk')\n",
    "dir(elon_profile)"
   ]
  },
  {
   "cell_type": "code",
   "execution_count": 20,
   "metadata": {
    "colab": {
     "base_uri": "https://localhost:8080/",
     "height": 34
    },
    "colab_type": "code",
    "id": "_XhVFCN8esMX",
    "outputId": "63ab1baf-fb8c-4fee-f6c3-d48c11f65f64"
   },
   "outputs": [
    {
     "data": {
      "text/plain": [
       "11936"
      ]
     },
     "execution_count": 20,
     "metadata": {
      "tags": []
     },
     "output_type": "execute_result"
    }
   ],
   "source": [
    "elon_profile.tweets_count"
   ]
  },
  {
   "cell_type": "code",
   "execution_count": 4,
   "metadata": {
    "colab": {
     "base_uri": "https://localhost:8080/",
     "height": 34
    },
    "colab_type": "code",
    "id": "DzDXUrGY32tu",
    "outputId": "3bdba18a-6235-4b0f-8c16-381395aff3ca"
   },
   "outputs": [
    {
     "name": "stdout",
     "output_type": "stream",
     "text": [
      "199\n"
     ]
    }
   ],
   "source": [
    "tweets = list(get_tweets('elonmusk', pages=10))\n",
    "print(len(tweets))"
   ]
  },
  {
   "cell_type": "code",
   "execution_count": 5,
   "metadata": {
    "colab": {
     "base_uri": "https://localhost:8080/",
     "height": 1000
    },
    "colab_type": "code",
    "id": "JQFu3AX_3pwN",
    "outputId": "167052c3-aecb-4092-95b1-080876024d03"
   },
   "outputs": [
    {
     "data": {
      "text/plain": [
       "[{'entries': {'hashtags': [],\n",
       "   'photos': ['https://pbs.twimg.com/media/EexYPnPU0AEqLUI.jpg'],\n",
       "   'urls': [],\n",
       "   'videos': []},\n",
       "  'isPinned': False,\n",
       "  'isRetweet': False,\n",
       "  'likes': 57685,\n",
       "  'replies': 2228,\n",
       "  'retweets': 4770,\n",
       "  'text': 'SN5 pic.twitter.com/GlZ28KFVHU',\n",
       "  'time': datetime.datetime(2020, 8, 6, 22, 39, 35),\n",
       "  'tweetId': '1291504220948951041',\n",
       "  'tweetUrl': '/elonmusk/status/1291504220948951041',\n",
       "  'userId': '44196397',\n",
       "  'username': 'elonmusk'},\n",
       " {'entries': {'hashtags': [],\n",
       "   'photos': [],\n",
       "   'urls': [],\n",
       "   'videos': [{'id': '1GqqSQZpS-faQ0Nb'}]},\n",
       "  'isPinned': False,\n",
       "  'isRetweet': True,\n",
       "  'likes': 41817,\n",
       "  'replies': 983,\n",
       "  'retweets': 3831,\n",
       "  'text': 'Looking up in Model Y pic.twitter.com/iAfpJ491Zz',\n",
       "  'time': datetime.datetime(2020, 8, 6, 0, 58, 38),\n",
       "  'tweetId': '1291176823557099520',\n",
       "  'tweetUrl': '/Tesla/status/1291176823557099520',\n",
       "  'userId': '13298072',\n",
       "  'username': 'Tesla'},\n",
       " {'entries': {'hashtags': [],\n",
       "   'photos': [],\n",
       "   'urls': [],\n",
       "   'videos': [{'id': 'PQ6-Nc_vhUazq9m9'}]},\n",
       "  'isPinned': False,\n",
       "  'isRetweet': True,\n",
       "  'likes': 245563,\n",
       "  'replies': 5347,\n",
       "  'retweets': 47842,\n",
       "  'text': 'Starship takes flight pic.twitter.com/IWvwcA05hl',\n",
       "  'time': datetime.datetime(2020, 8, 5, 3, 37, 40),\n",
       "  'tweetId': '1290854457136181248',\n",
       "  'tweetUrl': '/SpaceX/status/1290854457136181248',\n",
       "  'userId': '34743251',\n",
       "  'username': 'SpaceX'},\n",
       " {'entries': {'hashtags': [],\n",
       "   'photos': [],\n",
       "   'urls': ['https://www.youtube.com/watch?v=VwC6LG_z8zE'],\n",
       "   'videos': [{'id': '1Hd4gL3WxWJjWxD6'}]},\n",
       "  'isPinned': False,\n",
       "  'isRetweet': True,\n",
       "  'likes': 32291,\n",
       "  'replies': 950,\n",
       "  'retweets': 7081,\n",
       "  'text': 'LAUNCH! Starship SN5 has launched on a 150 meter test hop at SpaceX Boca Chica.\\n\\nUnder the power of Raptor SN27, SN5 has conducted what looks like a successful flight!\\n\\nListen to the SpaceXers cheer!\\n\\nMary (@BocaChicaGal) filming history!\\n\\nLivestream: https://www.youtube.com/watch?v=VwC6LG_z8zE\\xa0… pic.twitter.com/p5UTRFd0gI',\n",
       "  'time': datetime.datetime(2020, 8, 4, 23, 59, 45),\n",
       "  'tweetId': '1290799617882431488',\n",
       "  'tweetUrl': '/NASASpaceflight/status/1290799617882431488',\n",
       "  'userId': '21292523',\n",
       "  'username': 'NASASpaceflight'},\n",
       " {'entries': {'hashtags': [],\n",
       "   'photos': [],\n",
       "   'urls': [],\n",
       "   'videos': [{'id': 'qrU-zLeMVJUyg6JC'}]},\n",
       "  'isPinned': False,\n",
       "  'isRetweet': True,\n",
       "  'likes': 142904,\n",
       "  'replies': 3979,\n",
       "  'retweets': 27552,\n",
       "  'text': '“We are going to go to the moon, we are going to have a base on the moon, we are going to send people to mars and make life multi-planetary. This day heralds a new age of space exploration” — @elonmusk pic.twitter.com/rdTj0td18V',\n",
       "  'time': datetime.datetime(2020, 8, 3, 5, 23, 11),\n",
       "  'tweetId': '1290156236013412352',\n",
       "  'tweetUrl': '/RealLifeStarman/status/1290156236013412352',\n",
       "  'userId': '1015237196805169153',\n",
       "  'username': 'RealLifeStarman'}]"
      ]
     },
     "execution_count": 5,
     "metadata": {
      "tags": []
     },
     "output_type": "execute_result"
    }
   ],
   "source": [
    "tweets[0:5]"
   ]
  },
  {
   "cell_type": "code",
   "execution_count": 7,
   "metadata": {
    "colab": {
     "base_uri": "https://localhost:8080/",
     "height": 34
    },
    "colab_type": "code",
    "id": "I4pBAj7X5DqU",
    "outputId": "373f2c4d-4eeb-4ff2-df7c-4d04569f262a"
   },
   "outputs": [
    {
     "name": "stdout",
     "output_type": "stream",
     "text": [
      "133\n"
     ]
    }
   ],
   "source": [
    "elon_tweets = [d for d in tweets if d['username']=='elonmusk']\n",
    "print(len(elon_tweets))"
   ]
  },
  {
   "cell_type": "code",
   "execution_count": 15,
   "metadata": {
    "colab": {
     "base_uri": "https://localhost:8080/",
     "height": 34
    },
    "colab_type": "code",
    "id": "nvq97lGP5fja",
    "outputId": "262328cf-e81a-4ed4-c5b5-0112d1ef53b6"
   },
   "outputs": [
    {
     "name": "stdout",
     "output_type": "stream",
     "text": [
      "768\n"
     ]
    }
   ],
   "source": [
    "embedding = BASILICA.embed_sentence(elon_tweets[0]['text'], model='twitter')\n",
    "print(len(embedding))"
   ]
  },
  {
   "cell_type": "code",
   "execution_count": 21,
   "metadata": {
    "colab": {},
    "colab_type": "code",
    "id": "BIKkgiG15wQt"
   },
   "outputs": [],
   "source": [
    "def add_user_twitter_scraper(username):\n",
    "    \"\"\"Add a user and their tweets to database.\"\"\"\n",
    "    try:\n",
    "        # Get user profile   \n",
    "        user_profile = list(get_tweets(username, pages=10))\n",
    "\n",
    "        # Get most recent tweets\n",
    "        tweets = list(get_tweets(username, pages=10))\n",
    "        original_tweets = [d for d in tweets if d['username']==username]\n",
    "\n",
    "        # Get an example Basilica embedding for first tweet\n",
    "        embedding = BASILICA.embed_sentence(original_tweets[0]['text'], model='twitter')\n",
    "            \n",
    "    except Exception as e:\n",
    "        print('Error processing {}: {}'.format(username, e))\n",
    "        raise e\n",
    "\n",
    "    return original_tweets, embedding"
   ]
  },
  {
   "cell_type": "code",
   "execution_count": 22,
   "metadata": {
    "colab": {
     "base_uri": "https://localhost:8080/",
     "height": 34
    },
    "colab_type": "code",
    "id": "ExRU9KZ2f7Kj",
    "outputId": "96ee1d26-3568-4214-a9fd-d545840062b9"
   },
   "outputs": [
    {
     "name": "stdout",
     "output_type": "stream",
     "text": [
      "133 768\n"
     ]
    }
   ],
   "source": [
    "elon_tweets, elon_embedding = add_user_twitter_scraper('elonmusk')\n",
    "print(len(elon_tweets), len(elon_embedding))"
   ]
  },
  {
   "cell_type": "code",
   "execution_count": null,
   "metadata": {
    "colab": {},
    "colab_type": "code",
    "id": "pVapHGy7gEFx"
   },
   "outputs": [],
   "source": []
  }
 ],
 "metadata": {
  "colab": {
   "collapsed_sections": [],
   "name": "DSPT6_APIs_Demo.ipynb",
   "provenance": []
  },
  "kernelspec": {
   "display_name": "Python 3",
   "language": "python",
   "name": "python3"
  },
  "language_info": {
   "codemirror_mode": {
    "name": "ipython",
    "version": 3
   },
   "file_extension": ".py",
   "mimetype": "text/x-python",
   "name": "python",
   "nbconvert_exporter": "python",
   "pygments_lexer": "ipython3",
   "version": "3.7.7"
  }
 },
 "nbformat": 4,
 "nbformat_minor": 4
}
